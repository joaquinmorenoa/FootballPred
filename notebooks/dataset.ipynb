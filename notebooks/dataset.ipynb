{
 "cells": [
  {
   "cell_type": "code",
   "execution_count": 1,
   "metadata": {},
   "outputs": [],
   "source": [
    "import os\n",
    "import sys\n",
    "module_path = os.path.abspath(os.path.join('../src/'))\n",
    "if module_path not in sys.path:\n",
    "    sys.path.append(module_path)"
   ]
  },
  {
   "cell_type": "code",
   "execution_count": 2,
   "metadata": {},
   "outputs": [],
   "source": [
    "import torch\n",
    "from torchvision import transforms\n",
    "from torch.utils import data\n",
    "from datetime import datetime\n",
    "import itertools\n",
    "\n",
    "from dataset.db_query import *\n",
    "from dataset.dataset import SingleSeasonSingleLeagueTimeSlices, SingleSeasonSingleLeague\n",
    "from dataset.util import pretty_print_match_ts, pretty_print_match\n",
    "from dataset.train_valid_test_loader import *\n",
    "\n",
    "import logging\n",
    "logging.basicConfig(level=logging.DEBUG)\n"
   ]
  },
  {
   "cell_type": "code",
   "execution_count": 3,
   "metadata": {},
   "outputs": [],
   "source": [
    "sqlpath = \"../data/database.sqlite\"\n"
   ]
  },
  {
   "cell_type": "code",
   "execution_count": 4,
   "metadata": {},
   "outputs": [],
   "source": [
    "def collect_data_stats(data):\n",
    "    num_home_wins = 0\n",
    "    num_away_wins = 0\n",
    "    num_draws = 0\n",
    "\n",
    "    for x, y in data:\n",
    "        if y[0] == 1:\n",
    "            num_home_wins += 1\n",
    "        if y[1] == 1: \n",
    "            num_draws += 1\n",
    "        if y[2] == 1:\n",
    "            num_away_wins += 1\n",
    "    \n",
    "    N = len(data)\n",
    "    assert num_away_wins + num_draws + num_home_wins == N\n",
    "    \n",
    "    return num_home_wins / N, num_draws / N, num_away_wins / N"
   ]
  },
  {
   "cell_type": "code",
   "execution_count": null,
   "metadata": {},
   "outputs": [],
   "source": []
  },
  {
   "cell_type": "code",
   "execution_count": null,
   "metadata": {},
   "outputs": [],
   "source": []
  },
  {
   "cell_type": "code",
   "execution_count": null,
   "metadata": {},
   "outputs": [],
   "source": []
  },
  {
   "cell_type": "code",
   "execution_count": 5,
   "metadata": {},
   "outputs": [
    {
     "name": "stderr",
     "output_type": "stream",
     "text": [
      "INFO:root:got 1458 rows from db\n",
      "INFO:root:got 183978 rows from db\n",
      "INFO:root:got 306 rows (league: NET (id 13274), season: 2014/2015) from db\n",
      "DEBUG:root:time for loading sql data 21.348589420318604\n",
      "DEBUG:root:time for processing data 13.187032461166382\n"
     ]
    }
   ],
   "source": [
    "data = make_small_train_set(sqlpath, use_ts=True, ts_size=50)"
   ]
  },
  {
   "cell_type": "code",
   "execution_count": 7,
   "metadata": {},
   "outputs": [
    {
     "data": {
      "text/plain": [
       "({'home_team_name': 'Excelsior',\n",
       "  'away_team_name': 'SC Heerenveen',\n",
       "  'team_home': tensor([53., 69., 48., 45., 43., 29., 41., 36.]),\n",
       "  'team_away': tensor([53., 46., 65., 43., 46., 46., 44., 48.]),\n",
       "  'players_home': [tensor([63., 68., 25., 25., 25., 30., 20., 25., 25., 25., 44., 21., 53., 48.,\n",
       "           49., 58., 48., 44., 66., 31., 75., 25., 44., 23., 25., 25., 22., 25.,\n",
       "           25., 25., 65., 58., 63., 65., 65.]),\n",
       "   tensor([62., 66., 66., 50., 75., 62., 26., 57., 39., 27., 64., 59., 66., 48.,\n",
       "           60., 55., 68., 45., 82., 65., 65., 48., 66., 58., 63., 51., 47., 64.,\n",
       "           64., 63., 13.,  9., 10., 11.,  5.]),\n",
       "   tensor([65., 68., 29., 22., 64., 58., 25., 38., 25., 45., 60., 52., 61., 66.,\n",
       "           53., 55., 56., 60., 68., 66., 77., 43., 65., 68., 20., 39., 60., 67.,\n",
       "           68., 63.,  7., 15.,  8., 12., 13.]),\n",
       "   tensor([64., 69., 31., 20., 67., 56., 24., 42., 34., 29., 58., 59., 58., 63.,\n",
       "           47., 60., 53., 37., 70., 69., 84., 25., 62., 66., 30., 34., 53., 61.,\n",
       "           64., 58., 12., 13.,  9.,  9., 12.]),\n",
       "   tensor([61., 71., 61., 23., 58., 60., 32., 56., 66., 59., 64., 64., 66., 64.,\n",
       "           66., 58., 65., 63., 70., 63., 58., 44., 66., 58., 47., 44., 38., 64.,\n",
       "           58., 61.,  9.,  7., 14., 13., 14.]),\n",
       "   tensor([67., 69., 64., 65., 51., 61., 68., 72., 78., 73., 58., 76., 66., 69.,\n",
       "           69., 67., 54., 67., 62., 50., 54., 66., 55., 39., 60., 70., 51., 34.,\n",
       "           36., 34., 11.,  7., 13.,  6.,  8.]),\n",
       "   tensor([65., 68., 55., 48., 55., 67., 65., 62., 50., 65., 64., 66., 64., 63.,\n",
       "           65., 65., 63., 70., 70., 81., 67., 65., 73., 63., 58., 64., 70., 65.,\n",
       "           65., 65., 10.,  9., 12., 11.,  8.]),\n",
       "   tensor([64., 64., 44., 38., 40., 67., 64., 56., 63., 63., 67., 65., 55., 48.,\n",
       "           69., 63., 72., 71., 66., 64., 63., 68., 70., 62., 57., 65., 58., 58.,\n",
       "           61., 58., 12., 12.,  9.,  8.,  5.]),\n",
       "   tensor([66., 75., 62., 61., 57., 58., 58., 74., 67., 44., 43., 65., 89., 83.,\n",
       "           75., 53., 70., 62., 79., 64., 67., 66., 55., 25., 60., 53., 55., 25.,\n",
       "           22., 21., 11., 14., 11., 14.,  9.]),\n",
       "   tensor([64., 68., 38., 65., 68., 60., 50., 58., 48., 38., 35., 64., 66., 65.,\n",
       "           65., 64., 65., 65., 73., 66., 65., 63., 28., 25., 70., 48., 68., 25.,\n",
       "           20., 21., 13., 12., 11.,  7., 13.]),\n",
       "   tensor([65., 68., 65., 58., 45., 56., 45., 68., 63., 55., 54., 63., 87., 86.,\n",
       "           85., 57., 76., 61., 53., 62., 42., 43., 35., 21., 55., 54., 43., 21.,\n",
       "           25., 23., 10., 13., 13., 13., 11.])],\n",
       "  'players_away': [tensor([71., 73., 25., 25., 25., 40., 25., 25., 25., 25., 25., 23., 55., 52.,\n",
       "           58., 66., 46., 25., 83., 33., 74., 25., 23., 22., 25., 25., 25., 25.,\n",
       "           25., 25., 72., 65., 65., 73., 77.]),\n",
       "   tensor([65., 71., 68., 21., 58., 61., 28., 58., 31., 39., 51., 63., 74., 75.,\n",
       "           68., 62., 72., 41., 71., 68., 59., 25., 58., 62., 55., 37., 44., 64.,\n",
       "           65., 69.,  6., 10.,  5., 13., 13.]),\n",
       "   tensor([67., 74., 37., 30., 75., 59., 27., 45., 28., 27., 58., 52., 77., 82.,\n",
       "           50., 55., 44., 58., 86., 65., 84., 31., 81., 62., 21., 39., 34., 63.,\n",
       "           68., 58., 15., 14.,  7.,  5.,  7.]),\n",
       "   tensor([65., 76., 36., 24., 67., 67., 32., 55., 25., 33., 65., 63., 73., 71.,\n",
       "           60., 64., 62., 45., 71., 63., 70., 31., 67., 62., 28., 49., 43., 66.,\n",
       "           63., 63., 12.,  6.,  8.,  6., 10.]),\n",
       "   tensor([69., 73., 68., 42., 64., 60., 48., 70., 51., 44., 54., 68., 76., 78.,\n",
       "           70., 67., 85., 80., 80., 76., 71., 48., 78., 65., 61., 61., 58., 69.,\n",
       "           67., 71.,  8.,  6., 15.,  9.,  8.]),\n",
       "   tensor([64., 69., 60., 34., 60., 54., 36., 59., 38., 37., 61., 56., 66., 68.,\n",
       "           65., 62., 72., 68., 77., 70., 68., 55., 79., 61., 52., 56., 41., 58.,\n",
       "           74., 65., 12., 10., 12., 10., 15.]),\n",
       "   tensor([61., 73., 34., 67., 63., 54., 45., 58., 40., 39., 40., 63., 60., 63.,\n",
       "           51., 52., 47., 62., 65., 52., 72., 54., 63., 25., 60., 48., 62., 25.,\n",
       "           25., 25., 14., 13.,  8., 12., 12.]),\n",
       "   tensor([65., 72., 53., 54., 43., 71., 65., 68., 71., 58., 65., 73., 82., 76.,\n",
       "           84., 61., 74., 64., 56., 81., 44., 63., 60., 47., 56., 70., 54., 42.,\n",
       "           52., 48.,  6.,  6., 12., 13.,  9.]),\n",
       "   tensor([65., 74., 42., 61., 56., 59., 56., 70., 63., 41., 56., 68., 88., 88.,\n",
       "           86., 66., 67., 66., 72., 62., 58., 54., 47., 23., 66., 62., 52., 28.,\n",
       "           27., 37., 10., 14., 11., 13., 15.]),\n",
       "   tensor([66., 72., 60., 67., 68., 58., 60., 68., 53., 56., 53., 65., 74., 70.,\n",
       "           71., 62., 62., 70., 81., 67., 67., 53., 60., 46., 67., 64., 66., 23.,\n",
       "           27., 23.,  8., 10.,  7.,  8., 10.]),\n",
       "   tensor([59., 74., 43., 41., 46., 62., 42., 60., 50., 47., 59., 63., 64., 61.,\n",
       "           65., 62., 56., 51., 55., 60., 57., 42., 39., 30., 58., 60., 45., 41.,\n",
       "           38., 46., 12., 13.,  9.,  6., 12.])],\n",
       "  'home_team_goal': 3,\n",
       "  'away_team_goal': 0,\n",
       "  'home_team_history': [tensor([1., 1.]),\n",
       "   tensor([3., 2.]),\n",
       "   tensor([0., 2.]),\n",
       "   tensor([3., 1.]),\n",
       "   tensor([1., 3.]),\n",
       "   tensor([1., 1.]),\n",
       "   tensor([1., 1.]),\n",
       "   tensor([0., 3.]),\n",
       "   tensor([1., 1.]),\n",
       "   tensor([2., 1.]),\n",
       "   tensor([3., 3.]),\n",
       "   tensor([2., 2.]),\n",
       "   tensor([1., 1.]),\n",
       "   tensor([0., 5.]),\n",
       "   tensor([2., 5.]),\n",
       "   tensor([2., 2.]),\n",
       "   tensor([0., 2.]),\n",
       "   tensor([3., 0.]),\n",
       "   tensor([0., 1.]),\n",
       "   tensor([0., 0.]),\n",
       "   tensor([0., 0.]),\n",
       "   tensor([3., 1.]),\n",
       "   tensor([1., 1.]),\n",
       "   tensor([2., 3.])],\n",
       "  'away_team_history': [tensor([1., 2.]),\n",
       "   tensor([1., 1.]),\n",
       "   tensor([2., 0.]),\n",
       "   tensor([3., 1.]),\n",
       "   tensor([1., 0.]),\n",
       "   tensor([1., 1.]),\n",
       "   tensor([1., 0.]),\n",
       "   tensor([1., 2.]),\n",
       "   tensor([2., 2.]),\n",
       "   tensor([2., 2.]),\n",
       "   tensor([0., 2.]),\n",
       "   tensor([2., 2.]),\n",
       "   tensor([1., 4.]),\n",
       "   tensor([0., 1.]),\n",
       "   tensor([1., 1.]),\n",
       "   tensor([2., 0.]),\n",
       "   tensor([0., 0.]),\n",
       "   tensor([2., 1.]),\n",
       "   tensor([4., 1.]),\n",
       "   tensor([0., 0.]),\n",
       "   tensor([3., 1.]),\n",
       "   tensor([4., 0.]),\n",
       "   tensor([1., 2.]),\n",
       "   tensor([3., 1.])]},\n",
       " tensor([1, 0, 0]))"
      ]
     },
     "execution_count": 7,
     "metadata": {},
     "output_type": "execute_result"
    }
   ],
   "source": [
    "data[221]"
   ]
  },
  {
   "cell_type": "code",
   "execution_count": 26,
   "metadata": {},
   "outputs": [],
   "source": [
    "loader = torch.utils.data.dataloader.DataLoader(data, batch_size=3)"
   ]
  },
  {
   "cell_type": "code",
   "execution_count": 29,
   "metadata": {},
   "outputs": [
    {
     "name": "stdout",
     "output_type": "stream",
     "text": [
      "['Go Ahead Eagles', 'Ajax', 'Willem II']\n",
      "[]\n"
     ]
    }
   ],
   "source": [
    "for i, (x, y) in enumerate(loader):\n",
    "    if i == 2:\n",
    "        print(x[\"home_team_name\"])\n",
    "        print(x[\"home_team_history\"])\n",
    "        break"
   ]
  },
  {
   "cell_type": "code",
   "execution_count": null,
   "metadata": {},
   "outputs": [],
   "source": []
  }
 ],
 "metadata": {
  "kernelspec": {
   "display_name": "Python 3",
   "language": "python",
   "name": "python3"
  },
  "language_info": {
   "codemirror_mode": {
    "name": "ipython",
    "version": 3
   },
   "file_extension": ".py",
   "mimetype": "text/x-python",
   "name": "python",
   "nbconvert_exporter": "python",
   "pygments_lexer": "ipython3",
   "version": "3.6.7"
  }
 },
 "nbformat": 4,
 "nbformat_minor": 2
}
