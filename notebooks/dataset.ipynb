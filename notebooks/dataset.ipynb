{
 "cells": [
  {
   "cell_type": "code",
   "execution_count": 1,
   "metadata": {},
   "outputs": [],
   "source": [
    "import os\n",
    "import sys\n",
    "module_path = os.path.abspath(os.path.join('../src/'))\n",
    "if module_path not in sys.path:\n",
    "    sys.path.append(module_path)"
   ]
  },
  {
   "cell_type": "code",
   "execution_count": 2,
   "metadata": {},
   "outputs": [],
   "source": [
    "import torch\n",
    "from torchvision import transforms\n",
    "from torch.utils import data\n",
    "from datetime import datetime\n",
    "import itertools\n",
    "\n",
    "from dataset.db_query import *\n",
    "from dataset.dataset import SingleSeasonSingleLeagueTimeSlices, SingleSeasonSingleLeague\n",
    "from dataset.util import pretty_print_match_ts, pretty_print_match\n",
    "from dataset.train_valid_test_loader import *\n",
    "\n",
    "import logging\n",
    "logging.basicConfig(level=logging.DEBUG)\n"
   ]
  },
  {
   "cell_type": "code",
   "execution_count": 3,
   "metadata": {},
   "outputs": [],
   "source": [
    "sqlpath = \"../data/database.sqlite\"\n"
   ]
  },
  {
   "cell_type": "code",
   "execution_count": 4,
   "metadata": {},
   "outputs": [],
   "source": [
    "def collect_data_stats(data):\n",
    "    num_home_wins = 0\n",
    "    num_away_wins = 0\n",
    "    num_draws = 0\n",
    "\n",
    "    for x, y in data:\n",
    "        if y[0] == 1:\n",
    "            num_home_wins += 1\n",
    "        if y[1] == 1: \n",
    "            num_draws += 1\n",
    "        if y[2] == 1:\n",
    "            num_away_wins += 1\n",
    "    \n",
    "    N = len(data)\n",
    "    assert num_away_wins + num_draws + num_home_wins == N\n",
    "    \n",
    "    return num_home_wins / N, num_draws / N, num_away_wins / N"
   ]
  },
  {
   "cell_type": "code",
   "execution_count": null,
   "metadata": {},
   "outputs": [],
   "source": []
  },
  {
   "cell_type": "code",
   "execution_count": 15,
   "metadata": {},
   "outputs": [
    {
     "name": "stderr",
     "output_type": "stream",
     "text": [
      "INFO:root:got 1458 rows from db\n",
      "INFO:root:got 183978 rows from db\n",
      "INFO:root:got 306 rows (league: NET (id 13274), season: 2014/2015) from db\n",
      "DEBUG:root:time for loading sql data 2.79663348197937\n",
      "DEBUG:root:time for processing data 6.930705308914185\n"
     ]
    }
   ],
   "source": [
    "data = make_small_train_set(sqlpath, undersample_probs=(0.6, 1.0, 1.0))"
   ]
  },
  {
   "cell_type": "code",
   "execution_count": 16,
   "metadata": {},
   "outputs": [
    {
     "data": {
      "text/plain": [
       "246"
      ]
     },
     "execution_count": 16,
     "metadata": {},
     "output_type": "execute_result"
    }
   ],
   "source": [
    "len(data)"
   ]
  },
  {
   "cell_type": "code",
   "execution_count": 17,
   "metadata": {},
   "outputs": [
    {
     "data": {
      "text/plain": [
       "(0.3170731707317073, 0.2967479674796748, 0.3861788617886179)"
      ]
     },
     "execution_count": 17,
     "metadata": {},
     "output_type": "execute_result"
    }
   ],
   "source": [
    "collect_data_stats(data)"
   ]
  },
  {
   "cell_type": "code",
   "execution_count": null,
   "metadata": {},
   "outputs": [],
   "source": []
  }
 ],
 "metadata": {
  "kernelspec": {
   "display_name": "Python 3",
   "language": "python",
   "name": "python3"
  },
  "language_info": {
   "codemirror_mode": {
    "name": "ipython",
    "version": 3
   },
   "file_extension": ".py",
   "mimetype": "text/x-python",
   "name": "python",
   "nbconvert_exporter": "python",
   "pygments_lexer": "ipython3",
   "version": "3.6.7"
  }
 },
 "nbformat": 4,
 "nbformat_minor": 2
}
