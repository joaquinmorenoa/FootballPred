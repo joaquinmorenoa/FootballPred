{
 "cells": [
  {
   "cell_type": "code",
   "execution_count": 1,
   "metadata": {},
   "outputs": [],
   "source": [
    "import sqlite3\n",
    "import pandas as pd\n",
    "import numpy as np\n",
    "\n",
    "%matplotlib inline\n",
    "import matplotlib.pyplot as plt"
   ]
  },
  {
   "cell_type": "code",
   "execution_count": 2,
   "metadata": {},
   "outputs": [],
   "source": [
    "db_path = \"../data/database.sqlite\"\n",
    "\n",
    "conn = sqlite3.connect(db_path)\n",
    "cur = conn.cursor()"
   ]
  },
  {
   "cell_type": "code",
   "execution_count": 3,
   "metadata": {},
   "outputs": [
    {
     "data": {
      "text/plain": [
       "[('sqlite_sequence',),\n",
       " ('Player_Attributes',),\n",
       " ('Player',),\n",
       " ('Match',),\n",
       " ('League',),\n",
       " ('Country',),\n",
       " ('Team',),\n",
       " ('Team_Attributes',)]"
      ]
     },
     "execution_count": 3,
     "metadata": {},
     "output_type": "execute_result"
    }
   ],
   "source": [
    "cur.execute(\"SELECT name FROM sqlite_master WHERE type='table';\")\n",
    "cur.fetchall()"
   ]
  },
  {
   "cell_type": "code",
   "execution_count": 4,
   "metadata": {},
   "outputs": [],
   "source": [
    "matches_df = pd.read_sql_query(\"SELECT * FROM %s\" % \"Match\", conn)"
   ]
  },
  {
   "cell_type": "code",
   "execution_count": 5,
   "metadata": {},
   "outputs": [
    {
     "data": {
      "text/html": [
       "<div>\n",
       "<style scoped>\n",
       "    .dataframe tbody tr th:only-of-type {\n",
       "        vertical-align: middle;\n",
       "    }\n",
       "\n",
       "    .dataframe tbody tr th {\n",
       "        vertical-align: top;\n",
       "    }\n",
       "\n",
       "    .dataframe thead th {\n",
       "        text-align: right;\n",
       "    }\n",
       "</style>\n",
       "<table border=\"1\" class=\"dataframe\">\n",
       "  <thead>\n",
       "    <tr style=\"text-align: right;\">\n",
       "      <th></th>\n",
       "      <th>id</th>\n",
       "      <th>country_id</th>\n",
       "      <th>league_id</th>\n",
       "      <th>season</th>\n",
       "      <th>stage</th>\n",
       "      <th>date</th>\n",
       "      <th>match_api_id</th>\n",
       "      <th>home_team_api_id</th>\n",
       "      <th>away_team_api_id</th>\n",
       "      <th>home_team_goal</th>\n",
       "      <th>...</th>\n",
       "      <th>SJA</th>\n",
       "      <th>VCH</th>\n",
       "      <th>VCD</th>\n",
       "      <th>VCA</th>\n",
       "      <th>GBH</th>\n",
       "      <th>GBD</th>\n",
       "      <th>GBA</th>\n",
       "      <th>BSH</th>\n",
       "      <th>BSD</th>\n",
       "      <th>BSA</th>\n",
       "    </tr>\n",
       "  </thead>\n",
       "  <tbody>\n",
       "    <tr>\n",
       "      <th>0</th>\n",
       "      <td>1</td>\n",
       "      <td>1</td>\n",
       "      <td>1</td>\n",
       "      <td>2008/2009</td>\n",
       "      <td>1</td>\n",
       "      <td>2008-08-17 00:00:00</td>\n",
       "      <td>492473</td>\n",
       "      <td>9987</td>\n",
       "      <td>9993</td>\n",
       "      <td>1</td>\n",
       "      <td>...</td>\n",
       "      <td>4.00</td>\n",
       "      <td>1.65</td>\n",
       "      <td>3.40</td>\n",
       "      <td>4.50</td>\n",
       "      <td>1.78</td>\n",
       "      <td>3.25</td>\n",
       "      <td>4.00</td>\n",
       "      <td>1.73</td>\n",
       "      <td>3.40</td>\n",
       "      <td>4.20</td>\n",
       "    </tr>\n",
       "    <tr>\n",
       "      <th>1</th>\n",
       "      <td>2</td>\n",
       "      <td>1</td>\n",
       "      <td>1</td>\n",
       "      <td>2008/2009</td>\n",
       "      <td>1</td>\n",
       "      <td>2008-08-16 00:00:00</td>\n",
       "      <td>492474</td>\n",
       "      <td>10000</td>\n",
       "      <td>9994</td>\n",
       "      <td>0</td>\n",
       "      <td>...</td>\n",
       "      <td>3.80</td>\n",
       "      <td>2.00</td>\n",
       "      <td>3.25</td>\n",
       "      <td>3.25</td>\n",
       "      <td>1.85</td>\n",
       "      <td>3.25</td>\n",
       "      <td>3.75</td>\n",
       "      <td>1.91</td>\n",
       "      <td>3.25</td>\n",
       "      <td>3.60</td>\n",
       "    </tr>\n",
       "    <tr>\n",
       "      <th>2</th>\n",
       "      <td>3</td>\n",
       "      <td>1</td>\n",
       "      <td>1</td>\n",
       "      <td>2008/2009</td>\n",
       "      <td>1</td>\n",
       "      <td>2008-08-16 00:00:00</td>\n",
       "      <td>492475</td>\n",
       "      <td>9984</td>\n",
       "      <td>8635</td>\n",
       "      <td>0</td>\n",
       "      <td>...</td>\n",
       "      <td>2.50</td>\n",
       "      <td>2.35</td>\n",
       "      <td>3.25</td>\n",
       "      <td>2.65</td>\n",
       "      <td>2.50</td>\n",
       "      <td>3.20</td>\n",
       "      <td>2.50</td>\n",
       "      <td>2.30</td>\n",
       "      <td>3.20</td>\n",
       "      <td>2.75</td>\n",
       "    </tr>\n",
       "    <tr>\n",
       "      <th>3</th>\n",
       "      <td>4</td>\n",
       "      <td>1</td>\n",
       "      <td>1</td>\n",
       "      <td>2008/2009</td>\n",
       "      <td>1</td>\n",
       "      <td>2008-08-17 00:00:00</td>\n",
       "      <td>492476</td>\n",
       "      <td>9991</td>\n",
       "      <td>9998</td>\n",
       "      <td>5</td>\n",
       "      <td>...</td>\n",
       "      <td>7.50</td>\n",
       "      <td>1.45</td>\n",
       "      <td>3.75</td>\n",
       "      <td>6.50</td>\n",
       "      <td>1.50</td>\n",
       "      <td>3.75</td>\n",
       "      <td>5.50</td>\n",
       "      <td>1.44</td>\n",
       "      <td>3.75</td>\n",
       "      <td>6.50</td>\n",
       "    </tr>\n",
       "    <tr>\n",
       "      <th>4</th>\n",
       "      <td>5</td>\n",
       "      <td>1</td>\n",
       "      <td>1</td>\n",
       "      <td>2008/2009</td>\n",
       "      <td>1</td>\n",
       "      <td>2008-08-16 00:00:00</td>\n",
       "      <td>492477</td>\n",
       "      <td>7947</td>\n",
       "      <td>9985</td>\n",
       "      <td>1</td>\n",
       "      <td>...</td>\n",
       "      <td>1.73</td>\n",
       "      <td>4.50</td>\n",
       "      <td>3.40</td>\n",
       "      <td>1.65</td>\n",
       "      <td>4.50</td>\n",
       "      <td>3.50</td>\n",
       "      <td>1.65</td>\n",
       "      <td>4.75</td>\n",
       "      <td>3.30</td>\n",
       "      <td>1.67</td>\n",
       "    </tr>\n",
       "  </tbody>\n",
       "</table>\n",
       "<p>5 rows × 115 columns</p>\n",
       "</div>"
      ],
      "text/plain": [
       "   id  country_id  league_id     season  stage                 date  \\\n",
       "0   1           1          1  2008/2009      1  2008-08-17 00:00:00   \n",
       "1   2           1          1  2008/2009      1  2008-08-16 00:00:00   \n",
       "2   3           1          1  2008/2009      1  2008-08-16 00:00:00   \n",
       "3   4           1          1  2008/2009      1  2008-08-17 00:00:00   \n",
       "4   5           1          1  2008/2009      1  2008-08-16 00:00:00   \n",
       "\n",
       "   match_api_id  home_team_api_id  away_team_api_id  home_team_goal  ...   \\\n",
       "0        492473              9987              9993               1  ...    \n",
       "1        492474             10000              9994               0  ...    \n",
       "2        492475              9984              8635               0  ...    \n",
       "3        492476              9991              9998               5  ...    \n",
       "4        492477              7947              9985               1  ...    \n",
       "\n",
       "    SJA   VCH   VCD   VCA   GBH   GBD   GBA   BSH   BSD   BSA  \n",
       "0  4.00  1.65  3.40  4.50  1.78  3.25  4.00  1.73  3.40  4.20  \n",
       "1  3.80  2.00  3.25  3.25  1.85  3.25  3.75  1.91  3.25  3.60  \n",
       "2  2.50  2.35  3.25  2.65  2.50  3.20  2.50  2.30  3.20  2.75  \n",
       "3  7.50  1.45  3.75  6.50  1.50  3.75  5.50  1.44  3.75  6.50  \n",
       "4  1.73  4.50  3.40  1.65  4.50  3.50  1.65  4.75  3.30  1.67  \n",
       "\n",
       "[5 rows x 115 columns]"
      ]
     },
     "execution_count": 5,
     "metadata": {},
     "output_type": "execute_result"
    }
   ],
   "source": [
    "matches_df.head()"
   ]
  },
  {
   "cell_type": "code",
   "execution_count": 26,
   "metadata": {},
   "outputs": [
    {
     "data": {
      "text/plain": [
       "(25979, 115)"
      ]
     },
     "execution_count": 26,
     "metadata": {},
     "output_type": "execute_result"
    }
   ],
   "source": [
    "matches_df.shape"
   ]
  },
  {
   "cell_type": "code",
   "execution_count": 95,
   "metadata": {},
   "outputs": [
    {
     "data": {
      "text/plain": [
       "(11060, 7)"
      ]
     },
     "execution_count": 95,
     "metadata": {},
     "output_type": "execute_result"
    }
   ],
   "source": [
    "player_df = pd.read_sql_query(\"SELECT * FROM %s\" % \"Player\", conn)\n",
    "\n",
    "player_df.shape"
   ]
  },
  {
   "cell_type": "code",
   "execution_count": 17,
   "metadata": {},
   "outputs": [],
   "source": [
    "ht_x_pos_cols = [\n",
    "\"home_player_X1\",\n",
    "\"home_player_X2\",\n",
    "\"home_player_X3\",\n",
    "\"home_player_X4\",\n",
    "\"home_player_X5\",\n",
    "\"home_player_X6\",\n",
    "\"home_player_X7\",\n",
    "\"home_player_X8\",\n",
    "\"home_player_X9\",\n",
    "\"home_player_X10\",\n",
    "\"home_player_X11\"\n",
    "]\n",
    "\n",
    "ht_y_pos_cols = [\n",
    "\"home_player_Y1\",\n",
    "\"home_player_Y2\",\n",
    "\"home_player_Y3\",\n",
    "\"home_player_Y4\",\n",
    "\"home_player_Y5\",\n",
    "\"home_player_Y6\",\n",
    "\"home_player_Y7\",\n",
    "\"home_player_Y8\",\n",
    "\"home_player_Y9\",\n",
    "\"home_player_Y10\",\n",
    "\"home_player_Y11\"\n",
    "]\n",
    "\n",
    "\n",
    "at_x_pos = [\n",
    "\"away_player_X1\",\n",
    "\"away_player_X2\",\n",
    "\"away_player_X3\",\n",
    "\"away_player_X4\",\n",
    "\"away_player_X5\",\n",
    "\"away_player_X6\",\n",
    "\"away_player_X7\",\n",
    "\"away_player_X8\",\n",
    "\"away_player_X9\",\n",
    "\"away_player_X10\",\n",
    "\"away_player_X11\"\n",
    "]\n",
    "\n",
    "at_y_pos = [\n",
    "\"away_player_Y1\",\n",
    "\"away_player_Y2\",\n",
    "\"away_player_Y3\",\n",
    "\"away_player_Y4\",\n",
    "\"away_player_Y5\",\n",
    "\"away_player_Y6\",\n",
    "\"away_player_Y7\",\n",
    "\"away_player_Y8\",\n",
    "\"away_player_Y9\",\n",
    "\"away_player_Y10\",\n",
    "\"away_player_Y11\"\n",
    "]\n"
   ]
  },
  {
   "cell_type": "code",
   "execution_count": 73,
   "metadata": {},
   "outputs": [
    {
     "name": "stdout",
     "output_type": "stream",
     "text": [
      "{'player1': (1.0, 1.0), 'player2': (8.0, 3.0), 'player3': (6.0, 3.0), 'player4': (4.0, 3.0), 'player5': (2.0, 3.0), 'player6': (5.0, 8.0), 'player7': (3.0, 8.0), 'player8': (6.0, 6.0), 'player9': (4.0, 6.0), 'player10': (7.0, 8.0), 'player11': (5.0, 11.0)}\n",
      "{'player1': (1.0, 1.0), 'player2': (2.0, 3.0), 'player3': (4.0, 3.0), 'player4': (6.0, 3.0), 'player5': (8.0, 3.0), 'player6': (5.0, 6.0), 'player7': (2.0, 8.0), 'player8': (4.0, 8.0), 'player9': (6.0, 8.0), 'player10': (8.0, 8.0), 'player11': (5.0, 11.0)}\n"
     ]
    }
   ],
   "source": [
    "positions = matches_df.loc[:, ht_x_pos + ht_y_pos + at_x_pos + at_y_pos]\n",
    "\n",
    "def extract_team_positions(match):\n",
    "    home_team_pos = {}\n",
    "    away_team_pos = {}\n",
    "    \n",
    "    for i in range(1, 12):\n",
    "        key = \"player{}\".format(i)\n",
    "        \n",
    "        strx = \"home_player_X{}\".format(i)\n",
    "        stry = \"home_player_Y{}\".format(i)\n",
    "        x, y = match[strx], match[stry]\n",
    "        home_team_pos[key] = (x, y)\n",
    "        \n",
    "        strx = \"away_player_X{}\".format(i)\n",
    "        stry = \"away_player_Y{}\".format(i)\n",
    "        x, y = match[strx], match[stry]\n",
    "        away_team_pos[key] = (x, y)\n",
    "        \n",
    "    return away_team_pos, home_team_pos\n",
    "\n",
    "def plot_pos(pos_dict):\n",
    "    xs = []\n",
    "    ys = []\n",
    "    \n",
    "    for k, (x, y) in pos_dict.items():\n",
    "        xs.append(x)\n",
    "        ys.append(y)\n",
    "    \n",
    "    plt.scatter(xs, ys)\n",
    "\n",
    "\n",
    "\n",
    "atpos, htpos = extract_team_positions(positions.iloc[25768])\n",
    "\n",
    "print(atpos)\n",
    "print(htpos)\n",
    "\n",
    "\n"
   ]
  },
  {
   "cell_type": "code",
   "execution_count": 84,
   "metadata": {},
   "outputs": [
    {
     "data": {
      "text/plain": [
       "67311.0"
      ]
     },
     "execution_count": 84,
     "metadata": {},
     "output_type": "execute_result"
    }
   ],
   "source": [
    "matches_df.iloc[25768][\"away_player_1\"]"
   ]
  },
  {
   "cell_type": "code",
   "execution_count": 96,
   "metadata": {},
   "outputs": [
    {
     "data": {
      "text/html": [
       "<div>\n",
       "<style scoped>\n",
       "    .dataframe tbody tr th:only-of-type {\n",
       "        vertical-align: middle;\n",
       "    }\n",
       "\n",
       "    .dataframe tbody tr th {\n",
       "        vertical-align: top;\n",
       "    }\n",
       "\n",
       "    .dataframe thead th {\n",
       "        text-align: right;\n",
       "    }\n",
       "</style>\n",
       "<table border=\"1\" class=\"dataframe\">\n",
       "  <thead>\n",
       "    <tr style=\"text-align: right;\">\n",
       "      <th></th>\n",
       "      <th>id</th>\n",
       "      <th>player_api_id</th>\n",
       "      <th>player_name</th>\n",
       "      <th>player_fifa_api_id</th>\n",
       "      <th>birthday</th>\n",
       "      <th>height</th>\n",
       "      <th>weight</th>\n",
       "    </tr>\n",
       "  </thead>\n",
       "  <tbody>\n",
       "    <tr>\n",
       "      <th>4042</th>\n",
       "      <td>4046</td>\n",
       "      <td>67311</td>\n",
       "      <td>Guillaume Faivre</td>\n",
       "      <td>170785</td>\n",
       "      <td>1987-02-20 00:00:00</td>\n",
       "      <td>187.96</td>\n",
       "      <td>183</td>\n",
       "    </tr>\n",
       "  </tbody>\n",
       "</table>\n",
       "</div>"
      ],
      "text/plain": [
       "        id  player_api_id       player_name  player_fifa_api_id  \\\n",
       "4042  4046          67311  Guillaume Faivre              170785   \n",
       "\n",
       "                 birthday  height  weight  \n",
       "4042  1987-02-20 00:00:00  187.96     183  "
      ]
     },
     "execution_count": 96,
     "metadata": {},
     "output_type": "execute_result"
    }
   ],
   "source": [
    "player_df[player_df.player_api_id == 67311]"
   ]
  },
  {
   "cell_type": "code",
   "execution_count": 79,
   "metadata": {},
   "outputs": [
    {
     "name": "stdout",
     "output_type": "stream",
     "text": [
      "[[1. 0. 0. 0. 0. 0. 0. 0. 0. 0. 0.]\n",
      " [0. 0. 1. 0. 0. 0. 0. 0. 0. 0. 0.]\n",
      " [0. 0. 0. 0. 0. 0. 0. 1. 0. 0. 0.]\n",
      " [0. 0. 1. 0. 0. 1. 0. 0. 0. 0. 0.]\n",
      " [0. 0. 0. 0. 0. 0. 0. 1. 0. 0. 1.]\n",
      " [0. 0. 1. 0. 0. 1. 0. 0. 0. 0. 0.]\n",
      " [0. 0. 0. 0. 0. 0. 0. 1. 0. 0. 0.]\n",
      " [0. 0. 1. 0. 0. 0. 0. 0. 0. 0. 0.]\n",
      " [0. 0. 0. 0. 0. 0. 0. 0. 0. 0. 0.]]\n"
     ]
    }
   ],
   "source": [
    "\n",
    "def get_field(pos):\n",
    "    field = np.zeros(shape=(9, 11))\n",
    "    \n",
    "    for k, (x, y) in pos.items():\n",
    "        i = int(x) - 1\n",
    "        j = int(y) - 1\n",
    "        field[i, j] = 1\n",
    "        \n",
    "    return field\n",
    "        \n",
    "field = get_field(atpos)\n",
    "print(field)"
   ]
  },
  {
   "cell_type": "markdown",
   "metadata": {},
   "source": [
    "## Note:\n",
    "This weird position (0,0) corresponds to player *Guillaume_Faivre* the __goal keeper__!\n",
    "\n",
    "\n",
    "This explains how we should read the positions: __from left to right__ i.e. this team has 4 defenders and 1 forward striker ..."
   ]
  },
  {
   "cell_type": "code",
   "execution_count": 97,
   "metadata": {},
   "outputs": [
    {
     "name": "stdout",
     "output_type": "stream",
     "text": [
      "[[1. 0. 0. 0. 0. 0. 0. 0. 0. 0. 0.]\n",
      " [0. 0. 1. 0. 0. 0. 0. 1. 0. 0. 0.]\n",
      " [0. 0. 0. 0. 0. 0. 0. 0. 0. 0. 0.]\n",
      " [0. 0. 1. 0. 0. 0. 0. 1. 0. 0. 0.]\n",
      " [0. 0. 0. 0. 0. 1. 0. 0. 0. 0. 1.]\n",
      " [0. 0. 1. 0. 0. 0. 0. 1. 0. 0. 0.]\n",
      " [0. 0. 0. 0. 0. 0. 0. 0. 0. 0. 0.]\n",
      " [0. 0. 1. 0. 0. 0. 0. 1. 0. 0. 0.]\n",
      " [0. 0. 0. 0. 0. 0. 0. 0. 0. 0. 0.]]\n"
     ]
    }
   ],
   "source": [
    "field = get_field(htpos)\n",
    "\n",
    "print(field)"
   ]
  },
  {
   "cell_type": "markdown",
   "metadata": {},
   "source": [
    "maybe we should exclude goal keepers alltogether as their influence on the positioning game is rather static and finding *a good position* for the goal keeper here is not really trivial ..."
   ]
  },
  {
   "cell_type": "code",
   "execution_count": 70,
   "metadata": {},
   "outputs": [
    {
     "data": {
      "text/plain": [
       "home_player_X1      2.0\n",
       "home_player_X2      8.0\n",
       "home_player_X3      8.0\n",
       "home_player_X4      8.0\n",
       "home_player_X5      9.0\n",
       "home_player_X6      9.0\n",
       "home_player_X7      9.0\n",
       "home_player_X8      9.0\n",
       "home_player_X9      9.0\n",
       "home_player_X10     9.0\n",
       "home_player_X11     7.0\n",
       "home_player_Y1      3.0\n",
       "home_player_Y2      3.0\n",
       "home_player_Y3      5.0\n",
       "home_player_Y4      5.0\n",
       "home_player_Y5      8.0\n",
       "home_player_Y6      9.0\n",
       "home_player_Y7      9.0\n",
       "home_player_Y8     10.0\n",
       "home_player_Y9     10.0\n",
       "home_player_Y10    11.0\n",
       "home_player_Y11    11.0\n",
       "away_player_X1      6.0\n",
       "away_player_X2      8.0\n",
       "away_player_X3      9.0\n",
       "away_player_X4      8.0\n",
       "away_player_X5      9.0\n",
       "away_player_X6      9.0\n",
       "away_player_X7      9.0\n",
       "away_player_X8      9.0\n",
       "away_player_X9      9.0\n",
       "away_player_X10     9.0\n",
       "away_player_X11     8.0\n",
       "away_player_Y1      3.0\n",
       "away_player_Y2      3.0\n",
       "away_player_Y3      7.0\n",
       "away_player_Y4      7.0\n",
       "away_player_Y5      9.0\n",
       "away_player_Y6     10.0\n",
       "away_player_Y7     10.0\n",
       "away_player_Y8     10.0\n",
       "away_player_Y9     11.0\n",
       "away_player_Y10    11.0\n",
       "away_player_Y11    11.0\n",
       "dtype: float64"
      ]
     },
     "execution_count": 70,
     "metadata": {},
     "output_type": "execute_result"
    }
   ],
   "source": [
    "positions.max()"
   ]
  },
  {
   "cell_type": "markdown",
   "metadata": {},
   "source": [
    "not all matches have positioning data ... about 1840 rows are missing"
   ]
  },
  {
   "cell_type": "code",
   "execution_count": 103,
   "metadata": {},
   "outputs": [
    {
     "data": {
      "text/plain": [
       "home_player_X1     1821\n",
       "home_player_X2     1821\n",
       "home_player_X3     1832\n",
       "home_player_X4     1832\n",
       "home_player_X5     1832\n",
       "home_player_X6     1832\n",
       "home_player_X7     1832\n",
       "home_player_X8     1832\n",
       "home_player_X9     1832\n",
       "home_player_X10    1832\n",
       "home_player_X11    1832\n",
       "home_player_Y1     1821\n",
       "home_player_Y2     1821\n",
       "home_player_Y3     1832\n",
       "home_player_Y4     1832\n",
       "home_player_Y5     1832\n",
       "home_player_Y6     1832\n",
       "home_player_Y7     1832\n",
       "home_player_Y8     1832\n",
       "home_player_Y9     1832\n",
       "home_player_Y10    1832\n",
       "home_player_Y11    1832\n",
       "away_player_X1     1832\n",
       "away_player_X2     1832\n",
       "away_player_X3     1832\n",
       "away_player_X4     1832\n",
       "away_player_X5     1832\n",
       "away_player_X6     1832\n",
       "away_player_X7     1832\n",
       "away_player_X8     1832\n",
       "away_player_X9     1833\n",
       "away_player_X10    1833\n",
       "away_player_X11    1839\n",
       "away_player_Y1     1832\n",
       "away_player_Y2     1832\n",
       "away_player_Y3     1832\n",
       "away_player_Y4     1832\n",
       "away_player_Y5     1832\n",
       "away_player_Y6     1832\n",
       "away_player_Y7     1832\n",
       "away_player_Y8     1832\n",
       "away_player_Y9     1833\n",
       "away_player_Y10    1833\n",
       "away_player_Y11    1839\n",
       "dtype: int64"
      ]
     },
     "execution_count": 103,
     "metadata": {},
     "output_type": "execute_result"
    }
   ],
   "source": [
    "positions.isna().sum()"
   ]
  },
  {
   "cell_type": "markdown",
   "metadata": {},
   "source": [
    "of about 25979 rows"
   ]
  },
  {
   "cell_type": "code",
   "execution_count": 104,
   "metadata": {},
   "outputs": [
    {
     "data": {
      "text/plain": [
       "(25979, 44)"
      ]
     },
     "execution_count": 104,
     "metadata": {},
     "output_type": "execute_result"
    }
   ],
   "source": [
    "positions.shape"
   ]
  }
 ],
 "metadata": {
  "kernelspec": {
   "display_name": "Python 3",
   "language": "python",
   "name": "python3"
  },
  "language_info": {
   "codemirror_mode": {
    "name": "ipython",
    "version": 3
   },
   "file_extension": ".py",
   "mimetype": "text/x-python",
   "name": "python",
   "nbconvert_exporter": "python",
   "pygments_lexer": "ipython3",
   "version": "3.6.7"
  }
 },
 "nbformat": 4,
 "nbformat_minor": 2
}
